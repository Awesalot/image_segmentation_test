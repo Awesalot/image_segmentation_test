{
  "nbformat": 4,
  "nbformat_minor": 0,
  "metadata": {
    "kernelspec": {
      "display_name": "Python [conda env:py36]",
      "language": "python",
      "name": "conda-env-py36-py"
    },
    "language_info": {
      "codemirror_mode": {
        "name": "ipython",
        "version": 3
      },
      "file_extension": ".py",
      "mimetype": "text/x-python",
      "name": "python",
      "nbconvert_exporter": "python",
      "pygments_lexer": "ipython3",
      "version": "3.6.4"
    },
    "colab": {
      "name": "Pytorch_UNet.ipynb",
      "provenance": [],
      "collapsed_sections": []
    },
    "accelerator": "GPU"
  },
  "cells": [
    {
      "cell_type": "markdown",
      "metadata": {
        "id": "Hg1ISi8TuEgM"
      },
      "source": [
        "# U-Net using Pytorch\n",
        "\n",
        "U-Net is a convolutional neural network that was developed for biomedical image segmentation at the Computer Science Department of the University of Freiburg, Germany. The network is based on the fully convolutional network and its architecture was modified and extended to work with fewer training images and to yield more precise segmentations. \n",
        "\n",
        "The goal of semantic image segmentation is to label each pixel of an image with a corresponding class of what is being represented. Because we’re predicting for every pixel in the image, this task is commonly referred to as dense prediction.\n",
        "\n",
        "In our case we will be using a U-Net to distinguish between shapes in an image created using helper functions."
      ]
    },
    {
      "cell_type": "markdown",
      "metadata": {
        "id": "QjWc9Ew4vOOF"
      },
      "source": [
        "## Initial Setup\n",
        "\n",
        "Firstly, we need to import the required modules so that we can create and manipulate the images and visualize it in plots."
      ]
    },
    {
      "cell_type": "code",
      "metadata": {
        "id": "QiCXEPL0dXy4"
      },
      "source": [
        "%matplotlib inline\n",
        "%load_ext autoreload\n",
        "%autoreload 2\n",
        "\n",
        "import os,sys\n",
        "import pandas as pd\n",
        "import matplotlib.pyplot as plt\n",
        "import numpy as np\n",
        "import random"
      ],
      "execution_count": 1,
      "outputs": []
    },
    {
      "cell_type": "markdown",
      "metadata": {
        "id": "wMtzqZPDv9Wq"
      },
      "source": [
        "### Image Plotting\n",
        "\n",
        "The functions below allow us to visualize the images and plot the results side by side to allow for better clarity. There is also a masking function to color the distinct objects when they are displayed to show the results of the segmentation."
      ]
    },
    {
      "cell_type": "code",
      "metadata": {
        "id": "ArGPUpuwdpOS"
      },
      "source": [
        "# Plotting the images\n",
        "def plot_img_array(img_array, ncol=3):\n",
        "    nrow = len(img_array) // ncol\n",
        "\n",
        "    f, plots = plt.subplots(nrow, ncol, sharex='all', sharey='all', figsize=(ncol * 4, nrow * 4))\n",
        "\n",
        "    for i in range(len(img_array)):\n",
        "        plots[i // ncol, i % ncol]\n",
        "        plots[i // ncol, i % ncol].imshow(img_array[i])\n",
        "\n",
        "# Plotting the original image, ground truth and prediction results side by side\n",
        "from functools import reduce\n",
        "def plot_side_by_side(img_arrays):\n",
        "    flatten_list = reduce(lambda x,y: x+y, zip(*img_arrays))\n",
        "\n",
        "    plot_img_array(np.array(flatten_list), ncol=len(img_arrays))\n",
        "\n",
        "# Plotting the error\n",
        "import itertools\n",
        "def plot_errors(results_dict, title):\n",
        "    markers = itertools.cycle(('+', 'x', 'o'))\n",
        "\n",
        "    plt.title('{}'.format(title))\n",
        "\n",
        "    for label, result in sorted(results_dict.items()):\n",
        "        plt.plot(result, marker=next(markers), label=label)\n",
        "        plt.ylabel('dice_coef')\n",
        "        plt.xlabel('epoch')\n",
        "        plt.legend(loc=3, bbox_to_anchor=(1, 0))\n",
        "\n",
        "    plt.show()\n",
        "\n",
        "# Masking the prediction results to disply the outcome of segmentation\n",
        "def masks_to_colorimg(masks):\n",
        "    colors = np.asarray([(201, 58, 64), (242, 207, 1), (0, 152, 75), (101, 172, 228),(56, 34, 132), (160, 194, 56)])\n",
        "\n",
        "    colorimg = np.ones((masks.shape[1], masks.shape[2], 3), dtype=np.float32) * 255\n",
        "    channels, height, width = masks.shape\n",
        "\n",
        "    for y in range(height):\n",
        "        for x in range(width):\n",
        "            selected_colors = colors[masks[:,y,x] > 0.5]\n",
        "\n",
        "            if len(selected_colors) > 0:\n",
        "                colorimg[y,x,:] = np.mean(selected_colors, axis=0)\n",
        "\n",
        "    return colorimg.astype(np.uint8)"
      ],
      "execution_count": 2,
      "outputs": []
    },
    {
      "cell_type": "markdown",
      "metadata": {
        "id": "pCatK7vQxLN7"
      },
      "source": [
        "### Data Generation\n",
        "\n",
        "The code below is used to generate the original dataset as well as the test data for the U-Net. We create images that contain various shapes at random locations."
      ]
    },
    {
      "cell_type": "code",
      "metadata": {
        "id": "uOWf0REBd1jb"
      },
      "source": [
        "def generate_random_data(height, width, count):\n",
        "    x, y = zip(*[generate_img_and_mask(height, width) for i in range(0, count)])\n",
        "\n",
        "    X = np.asarray(x) * 255\n",
        "    X = X.repeat(3, axis=1).transpose([0, 2, 3, 1]).astype(np.uint8)\n",
        "    Y = np.asarray(y)\n",
        "\n",
        "    return X, Y\n",
        "\n",
        "def generate_img_and_mask(height, width):\n",
        "    shape = (height, width)\n",
        "\n",
        "    triangle_location = get_random_location(*shape)\n",
        "    circle_location1 = get_random_location(*shape, zoom=0.7)\n",
        "    circle_location2 = get_random_location(*shape, zoom=0.5)\n",
        "    mesh_location = get_random_location(*shape)\n",
        "    square_location = get_random_location(*shape, zoom=0.8)\n",
        "    plus_location = get_random_location(*shape, zoom=1.2)\n",
        "\n",
        "    # Create input image\n",
        "    arr = np.zeros(shape, dtype=bool)\n",
        "    arr = add_triangle(arr, *triangle_location)\n",
        "    arr = add_circle(arr, *circle_location1)\n",
        "    arr = add_circle(arr, *circle_location2, fill=True)\n",
        "    arr = add_mesh_square(arr, *mesh_location)\n",
        "    arr = add_filled_square(arr, *square_location)\n",
        "    arr = add_plus(arr, *plus_location)\n",
        "    arr = np.reshape(arr, (1, height, width)).astype(np.float32)\n",
        "\n",
        "    # Create target masks\n",
        "    masks = np.asarray([\n",
        "        add_filled_square(np.zeros(shape, dtype=bool), *square_location),\n",
        "        add_circle(np.zeros(shape, dtype=bool), *circle_location2, fill=True),\n",
        "        add_triangle(np.zeros(shape, dtype=bool), *triangle_location),\n",
        "        add_circle(np.zeros(shape, dtype=bool), *circle_location1),\n",
        "         add_filled_square(np.zeros(shape, dtype=bool), *mesh_location),\n",
        "        # add_mesh_square(np.zeros(shape, dtype=bool), *mesh_location),\n",
        "        add_plus(np.zeros(shape, dtype=bool), *plus_location)\n",
        "    ]).astype(np.float32)\n",
        "\n",
        "    return arr, masks\n",
        "\n",
        "def add_square(arr, x, y, size):\n",
        "    s = int(size / 2)\n",
        "    arr[x-s,y-s:y+s] = True\n",
        "    arr[x+s,y-s:y+s] = True\n",
        "    arr[x-s:x+s,y-s] = True\n",
        "    arr[x-s:x+s,y+s] = True\n",
        "\n",
        "    return arr\n",
        "\n",
        "def add_filled_square(arr, x, y, size):\n",
        "    s = int(size / 2)\n",
        "\n",
        "    xx, yy = np.mgrid[:arr.shape[0], :arr.shape[1]]\n",
        "\n",
        "    return np.logical_or(arr, logical_and([xx > x - s, xx < x + s, yy > y - s, yy < y + s]))\n",
        "\n",
        "def logical_and(arrays):\n",
        "    new_array = np.ones(arrays[0].shape, dtype=bool)\n",
        "    for a in arrays:\n",
        "        new_array = np.logical_and(new_array, a)\n",
        "\n",
        "    return new_array\n",
        "\n",
        "def add_mesh_square(arr, x, y, size):\n",
        "    s = int(size / 2)\n",
        "\n",
        "    xx, yy = np.mgrid[:arr.shape[0], :arr.shape[1]]\n",
        "\n",
        "    return np.logical_or(arr, logical_and([xx > x - s, xx < x + s, xx % 2 == 1, yy > y - s, yy < y + s, yy % 2 == 1]))\n",
        "\n",
        "def add_triangle(arr, x, y, size):\n",
        "    s = int(size / 2)\n",
        "\n",
        "    triangle = np.tril(np.ones((size, size), dtype=bool))\n",
        "\n",
        "    arr[x-s:x-s+triangle.shape[0],y-s:y-s+triangle.shape[1]] = triangle\n",
        "\n",
        "    return arr\n",
        "\n",
        "def add_circle(arr, x, y, size, fill=False):\n",
        "    xx, yy = np.mgrid[:arr.shape[0], :arr.shape[1]]\n",
        "    circle = np.sqrt((xx - x) ** 2 + (yy - y) ** 2)\n",
        "    new_arr = np.logical_or(arr, np.logical_and(circle < size, circle >= size * 0.7 if not fill else True))\n",
        "\n",
        "    return new_arr\n",
        "\n",
        "def add_plus(arr, x, y, size):\n",
        "    s = int(size / 2)\n",
        "    arr[x-1:x+1,y-s:y+s] = True\n",
        "    arr[x-s:x+s,y-1:y+1] = True\n",
        "\n",
        "    return arr\n",
        "\n",
        "def get_random_location(width, height, zoom=1.0):\n",
        "    x = int(width * random.uniform(0.1, 0.9))\n",
        "    y = int(height * random.uniform(0.1, 0.9))\n",
        "\n",
        "    size = int(min(width, height) * random.uniform(0.06, 0.12) * zoom)\n",
        "\n",
        "    return (x, y, size)"
      ],
      "execution_count": 3,
      "outputs": []
    },
    {
      "cell_type": "markdown",
      "metadata": {
        "id": "OE86CKqHxktM"
      },
      "source": [
        "We use `generate_random_data` to create some samples. Then,we use the helper functions previously defined to print them along with their target masks."
      ]
    },
    {
      "cell_type": "code",
      "metadata": {
        "id": "LNxFtGaEdlYF",
        "outputId": "999d2f6b-1980-4f1f-b314-7de35172aa7a",
        "colab": {
          "base_uri": "https://localhost:8080/",
          "height": 776
        }
      },
      "source": [
        "# Generate some random images\n",
        "input_images, target_masks = generate_random_data(192, 192, count=3)\n",
        "\n",
        "for x in [input_images, target_masks]:\n",
        "    print(x.shape)\n",
        "    print(x.min(), x.max())\n",
        "\n",
        "# Change channel-order and make 3 channels for matplot\n",
        "input_images_rgb = [x.astype(np.uint8) for x in input_images]\n",
        "\n",
        "# Map each channel (i.e. class) to each color\n",
        "target_masks_rgb = [masks_to_colorimg(x) for x in target_masks]\n",
        "\n",
        "# Left: Input image, Right: Target mask (Ground-truth)\n",
        "plot_side_by_side([input_images_rgb, target_masks_rgb])"
      ],
      "execution_count": 4,
      "outputs": [
        {
          "output_type": "stream",
          "text": [
            "(3, 192, 192, 3)\n",
            "0 255\n",
            "(3, 6, 192, 192)\n",
            "0.0 1.0\n"
          ],
          "name": "stdout"
        },
        {
          "output_type": "display_data",
          "data": {
            "image/png": "[encoded data removed]",
            "text/plain": [
              "<Figure size 576x864 with 6 Axes>"
            ]
          },
          "metadata": {
            "tags": [],
            "needs_background": "light"
          }
        }
      ]
    },
    {
      "cell_type": "markdown",
      "metadata": {
        "id": "JVd1CTtgyQ7H"
      },
      "source": [
        "## U-Net using PyTorch\n",
        "\n",
        "We start by importing all the pytorch modules that we will need to create the U-Net."
      ]
    },
    {
      "cell_type": "code",
      "metadata": {
        "id": "C0pSd8oqfGA_"
      },
      "source": [
        "from torchsummary import summary\n",
        "import torch\n",
        "import torch.nn as nn\n",
        "from collections import defaultdict\n",
        "from torch.utils.data import Dataset, DataLoader\n",
        "from torchvision import transforms, datasets, models\n",
        "import torchvision.utils\n",
        "import torch.optim as optim\n",
        "from torch.optim import lr_scheduler"
      ],
      "execution_count": 5,
      "outputs": []
    },
    {
      "cell_type": "markdown",
      "metadata": {
        "id": "TDQhaRV3yx9R"
      },
      "source": [
        "### Data Setup\n",
        "\n",
        "Next, we create the training and validation sets and transform them to make them suitable inputs to the U-Net. In this case we create 2000 images for the training set and 200 for the validation set."
      ]
    },
    {
      "cell_type": "code",
      "metadata": {
        "id": "cSrr1UbEdXy-",
        "outputId": "0858eb75-2dc9-4798-9839-546fb607d868",
        "colab": {
          "base_uri": "https://localhost:8080/"
        }
      },
      "source": [
        "class SimDataset(Dataset):\n",
        "    def __init__(self, count, transform=None):\n",
        "        self.input_images, self.target_masks = generate_random_data(192, 192, count=count)        \n",
        "        self.transform = transform\n",
        "    \n",
        "    def __len__(self):\n",
        "        return len(self.input_images)\n",
        "    \n",
        "    def __getitem__(self, idx):        \n",
        "        image = self.input_images[idx]\n",
        "        mask = self.target_masks[idx]\n",
        "        if self.transform:\n",
        "            image = self.transform(image)\n",
        "        \n",
        "        return [image, mask]\n",
        "\n",
        "# use same transform for train/val for this example\n",
        "trans = transforms.Compose([\n",
        "    transforms.ToTensor(),\n",
        "])\n",
        "\n",
        "train_set = SimDataset(2000, transform = trans)\n",
        "val_set = SimDataset(200, transform = trans)\n",
        "\n",
        "image_datasets = {\n",
        "    'train': train_set, 'val': val_set\n",
        "}\n",
        "\n",
        "batch_size = 25\n",
        "\n",
        "dataloaders = {\n",
        "    'train': DataLoader(train_set, batch_size=batch_size, shuffle=True, num_workers=0),\n",
        "    'val': DataLoader(val_set, batch_size=batch_size, shuffle=True, num_workers=0)\n",
        "}\n",
        "\n",
        "dataset_sizes = {\n",
        "    x: len(image_datasets[x]) for x in image_datasets.keys()\n",
        "}\n",
        "\n",
        "dataset_sizes"
      ],
      "execution_count": 6,
      "outputs": [
        {
          "output_type": "execute_result",
          "data": {
            "text/plain": [
              "{'train': 2000, 'val': 200}"
            ]
          },
          "metadata": {
            "tags": []
          },
          "execution_count": 6
        }
      ]
    },
    {
      "cell_type": "markdown",
      "metadata": {
        "id": "h-lDaQJHz6JA"
      },
      "source": [
        "We need to create a function to reverse the transformation and display the image form of the array. This will allow us to view the original image as well as convert the output of the net to image form."
      ]
    },
    {
      "cell_type": "code",
      "metadata": {
        "id": "sDj1wyIsdXzC",
        "outputId": "99306e50-a639-462a-81fd-1b02b570b2d6",
        "colab": {
          "base_uri": "https://localhost:8080/",
          "height": 342
        }
      },
      "source": [
        "def reverse_transform(inp):\n",
        "    inp = inp.numpy().transpose((1, 2, 0))\n",
        "    inp = np.clip(inp, 0, 1)\n",
        "    inp = (inp * 255).astype(np.uint8)\n",
        "    \n",
        "    return inp\n",
        "\n",
        "# Get a batch of training data\n",
        "inputs, masks = next(iter(dataloaders['train']))\n",
        "\n",
        "print(inputs.shape, masks.shape)\n",
        "for x in [inputs.numpy(), masks.numpy()]:\n",
        "    print(x.min(), x.max(), x.mean(), x.std())\n",
        "\n",
        "plt.imshow(reverse_transform(inputs[3]))"
      ],
      "execution_count": 7,
      "outputs": [
        {
          "output_type": "stream",
          "text": [
            "torch.Size([25, 3, 192, 192]) torch.Size([25, 6, 192, 192])\n",
            "0.0 1.0 0.022681206 0.14888507\n",
            "0.0 1.0 0.0046871384 0.06830193\n"
          ],
          "name": "stdout"
        },
        {
          "output_type": "execute_result",
          "data": {
            "text/plain": [
              "<matplotlib.image.AxesImage at 0x7f5e41260630>"
            ]
          },
          "metadata": {
            "tags": []
          },
          "execution_count": 7
        },
        {
          "output_type": "display_data",
          "data": {
            "image/png": "[encoded data removed]",
            "text/plain": [
              "<Figure size 432x288 with 1 Axes>"
            ]
          },
          "metadata": {
            "tags": [],
            "needs_background": "light"
          }
        }
      ]
    },
    {
      "cell_type": "markdown",
      "metadata": {
        "id": "ZaWW-is45S76"
      },
      "source": [
        "### Network Creation\n",
        "\n",
        "We create a helper function to create a Sequential double convolution layer as we will need to do so a few times to create the U-Net."
      ]
    },
    {
      "cell_type": "code",
      "metadata": {
        "id": "Nyvh5x4IhCuM"
      },
      "source": [
        "def double_conv(in_channels, out_channels):\n",
        "    return nn.Sequential(\n",
        "        nn.Conv2d(in_channels, out_channels, 3, padding=1),\n",
        "        nn.ReLU(inplace=True),\n",
        "        nn.Conv2d(out_channels, out_channels, 3, padding=1),\n",
        "        nn.ReLU(inplace=True)\n",
        "    )   "
      ],
      "execution_count": 8,
      "outputs": []
    },
    {
      "cell_type": "markdown",
      "metadata": {
        "id": "Dazl6Cq95yEB"
      },
      "source": [
        "The following is the code to create the U-Net structure using the PyTorch Neural Net module -"
      ]
    },
    {
      "cell_type": "code",
      "metadata": {
        "id": "Qr7UUtrtdXzF"
      },
      "source": [
        "class UNet(nn.Module):\n",
        "\n",
        "    def __init__(self, n_class):\n",
        "        super().__init__()\n",
        "                \n",
        "        self.dconv_down1 = double_conv(3, 64)\n",
        "        self.dconv_down2 = double_conv(64, 128)\n",
        "        self.dconv_down3 = double_conv(128, 256)\n",
        "        self.dconv_down4 = double_conv(256, 512)        \n",
        "\n",
        "        self.maxpool = nn.MaxPool2d(2)\n",
        "        self.upsample = nn.Upsample(scale_factor=2, mode='bilinear', align_corners=True)        \n",
        "        \n",
        "        self.dconv_up3 = double_conv(256 + 512, 256)\n",
        "        self.dconv_up2 = double_conv(128 + 256, 128)\n",
        "        self.dconv_up1 = double_conv(128 + 64, 64)\n",
        "        \n",
        "        self.conv_last = nn.Conv2d(64, n_class, 1)\n",
        "        \n",
        "        \n",
        "    def forward(self, x):\n",
        "        conv1 = self.dconv_down1(x)\n",
        "        x = self.maxpool(conv1)\n",
        "\n",
        "        conv2 = self.dconv_down2(x)\n",
        "        x = self.maxpool(conv2)\n",
        "        \n",
        "        conv3 = self.dconv_down3(x)\n",
        "        x = self.maxpool(conv3)   \n",
        "        \n",
        "        x = self.dconv_down4(x)\n",
        "        \n",
        "        x = self.upsample(x)        \n",
        "        x = torch.cat([x, conv3], dim=1)\n",
        "        \n",
        "        x = self.dconv_up3(x)\n",
        "        x = self.upsample(x)        \n",
        "        x = torch.cat([x, conv2], dim=1)       \n",
        "\n",
        "        x = self.dconv_up2(x)\n",
        "        x = self.upsample(x)        \n",
        "        x = torch.cat([x, conv1], dim=1)   \n",
        "        \n",
        "        x = self.dconv_up1(x)\n",
        "        \n",
        "        out = self.conv_last(x)\n",
        "        \n",
        "        return out"
      ],
      "execution_count": 9,
      "outputs": []
    },
    {
      "cell_type": "markdown",
      "metadata": {
        "id": "mF_OE0br6C8H"
      },
      "source": [
        "If a GPU is available we train on that so we can to reduce the training time.\n",
        "\n",
        "We call the function `UNet` to create a U-Net and print the summary of the model for verification."
      ]
    },
    {
      "cell_type": "code",
      "metadata": {
        "id": "9gOIoAtHg_mO",
        "outputId": "f3d2b8e2-45f5-4fe0-ee7b-80e7dc19c5e1",
        "colab": {
          "base_uri": "https://localhost:8080/"
        }
      },
      "source": [
        "device = torch.device('cuda' if torch.cuda.is_available() else 'cpu')\n",
        "\n",
        "model = UNet(6)\n",
        "model = model.to(device)\n",
        "\n",
        "summary(model, input_size=(3, 224, 224))"
      ],
      "execution_count": 10,
      "outputs": [
        {
          "output_type": "stream",
          "text": [
            "----------------------------------------------------------------\n",
            "        Layer (type)               Output Shape         Param #\n",
            "================================================================\n",
            "            Conv2d-1         [-1, 64, 224, 224]           1,792\n",
            "              ReLU-2         [-1, 64, 224, 224]               0\n",
            "            Conv2d-3         [-1, 64, 224, 224]          36,928\n",
            "              ReLU-4         [-1, 64, 224, 224]               0\n",
            "         MaxPool2d-5         [-1, 64, 112, 112]               0\n",
            "            Conv2d-6        [-1, 128, 112, 112]          73,856\n",
            "              ReLU-7        [-1, 128, 112, 112]               0\n",
            "            Conv2d-8        [-1, 128, 112, 112]         147,584\n",
            "              ReLU-9        [-1, 128, 112, 112]               0\n",
            "        MaxPool2d-10          [-1, 128, 56, 56]               0\n",
            "           Conv2d-11          [-1, 256, 56, 56]         295,168\n",
            "             ReLU-12          [-1, 256, 56, 56]               0\n",
            "           Conv2d-13          [-1, 256, 56, 56]         590,080\n",
            "             ReLU-14          [-1, 256, 56, 56]               0\n",
            "        MaxPool2d-15          [-1, 256, 28, 28]               0\n",
            "           Conv2d-16          [-1, 512, 28, 28]       1,180,160\n",
            "             ReLU-17          [-1, 512, 28, 28]               0\n",
            "           Conv2d-18          [-1, 512, 28, 28]       2,359,808\n",
            "             ReLU-19          [-1, 512, 28, 28]               0\n",
            "         Upsample-20          [-1, 512, 56, 56]               0\n",
            "           Conv2d-21          [-1, 256, 56, 56]       1,769,728\n",
            "             ReLU-22          [-1, 256, 56, 56]               0\n",
            "           Conv2d-23          [-1, 256, 56, 56]         590,080\n",
            "             ReLU-24          [-1, 256, 56, 56]               0\n",
            "         Upsample-25        [-1, 256, 112, 112]               0\n",
            "           Conv2d-26        [-1, 128, 112, 112]         442,496\n",
            "             ReLU-27        [-1, 128, 112, 112]               0\n",
            "           Conv2d-28        [-1, 128, 112, 112]         147,584\n",
            "             ReLU-29        [-1, 128, 112, 112]               0\n",
            "         Upsample-30        [-1, 128, 224, 224]               0\n",
            "           Conv2d-31         [-1, 64, 224, 224]         110,656\n",
            "             ReLU-32         [-1, 64, 224, 224]               0\n",
            "           Conv2d-33         [-1, 64, 224, 224]          36,928\n",
            "             ReLU-34         [-1, 64, 224, 224]               0\n",
            "           Conv2d-35          [-1, 6, 224, 224]             390\n",
            "================================================================\n",
            "Total params: 7,783,238\n",
            "Trainable params: 7,783,238\n",
            "Non-trainable params: 0\n",
            "----------------------------------------------------------------\n",
            "Input size (MB): 0.57\n",
            "Forward/backward pass size (MB): 454.02\n",
            "Params size (MB): 29.69\n",
            "Estimated Total Size (MB): 484.28\n",
            "----------------------------------------------------------------\n"
          ],
          "name": "stdout"
        }
      ]
    },
    {
      "cell_type": "markdown",
      "metadata": {
        "id": "-vNeCEJL7AeC"
      },
      "source": [
        "## Training\n",
        "\n",
        "To train the model we must first decide on a metric to evaluate it on so that we can check how good the model is. The loss is calculated in the `calc_loss` function and stored as a metric."
      ]
    },
    {
      "cell_type": "code",
      "metadata": {
        "id": "iovmNEeehRsp"
      },
      "source": [
        "def dice_loss(pred, target, smooth = 1.):\n",
        "    pred = pred.contiguous()\n",
        "    target = target.contiguous()    \n",
        "\n",
        "    intersection = (pred * target).sum(dim=2).sum(dim=2)\n",
        "    \n",
        "    loss = (1 - ((2. * intersection + smooth) / (pred.sum(dim=2).sum(dim=2) + target.sum(dim=2).sum(dim=2) + smooth)))\n",
        "    \n",
        "    return loss.mean()\n",
        "\n",
        "def calc_loss(pred, target, metrics, bce_weight=0.5):\n",
        "    bce = nn.functional.binary_cross_entropy_with_logits(pred, target)\n",
        "        \n",
        "    pred = torch.sigmoid(pred)\n",
        "    dice = dice_loss(pred, target)\n",
        "    \n",
        "    loss = bce * bce_weight + dice * (1 - bce_weight)\n",
        "    \n",
        "    metrics['bce'] += bce.data.cpu().numpy() * target.size(0)\n",
        "    metrics['dice'] += dice.data.cpu().numpy() * target.size(0)\n",
        "    metrics['loss'] += loss.data.cpu().numpy() * target.size(0)\n",
        "    \n",
        "    return loss\n",
        "\n",
        "def print_metrics(metrics, epoch_samples, phase):    \n",
        "    outputs = []\n",
        "    for k in metrics.keys():\n",
        "        outputs.append(\"{}: {:4f}\".format(k, metrics[k] / epoch_samples))\n",
        "        \n",
        "    print(\"{}: {}\".format(phase, \", \".join(outputs)))  "
      ],
      "execution_count": 11,
      "outputs": []
    },
    {
      "cell_type": "markdown",
      "metadata": {
        "id": "ECbPhEZC831H"
      },
      "source": [
        "Next, we create the training loop. We will iterate over each epoch and update the model with the best weights i.e. the weights that result in the least amount of loss. After going through all the epochs we are left with the model that has the lowest loss."
      ]
    },
    {
      "cell_type": "code",
      "metadata": {
        "id": "nzAIRy8QdXzJ"
      },
      "source": [
        "def train_model(model, optimizer, scheduler, num_epochs=25):\n",
        "    best_model_wts = copy.deepcopy(model.state_dict())\n",
        "    best_loss = 1e10\n",
        "\n",
        "    for epoch in range(num_epochs):\n",
        "        print('Epoch {}/{}'.format(epoch, num_epochs - 1))\n",
        "        print('-' * 10)\n",
        "        \n",
        "        since = time.time()\n",
        "\n",
        "        # Each epoch has a training and validation phase\n",
        "        for phase in ['train', 'val']:\n",
        "            if phase == 'train':\n",
        "                for param_group in optimizer.param_groups:\n",
        "                    print(\"LR\", param_group['lr'])\n",
        "                    \n",
        "                model.train()  # Set model to training mode\n",
        "            else:\n",
        "                model.eval()   # Set model to evaluate mode\n",
        "\n",
        "            metrics = defaultdict(float)\n",
        "            epoch_samples = 0\n",
        "            \n",
        "            for inputs, labels in dataloaders[phase]:\n",
        "                inputs = inputs.to(device)\n",
        "                labels = labels.to(device)             \n",
        "\n",
        "                # zero the parameter gradients\n",
        "                optimizer.zero_grad()\n",
        "\n",
        "                # forward\n",
        "                # track history if only in train\n",
        "                with torch.set_grad_enabled(phase == 'train'):\n",
        "                    outputs = model(inputs)\n",
        "                    loss = calc_loss(outputs, labels, metrics)\n",
        "\n",
        "                    # backward + optimize only if in training phase\n",
        "                    if phase == 'train':\n",
        "                        loss.backward()\n",
        "                        optimizer.step()\n",
        "\n",
        "                # statistics\n",
        "                epoch_samples += inputs.size(0)\n",
        "\n",
        "            print_metrics(metrics, epoch_samples, phase)\n",
        "            epoch_loss = metrics['loss'] / epoch_samples\n",
        "            if phase == 'train':\n",
        "              scheduler.step()\n",
        "\n",
        "            # deep copy the model\n",
        "            if phase == 'val' and epoch_loss < best_loss:\n",
        "                print(\"saving best model\")\n",
        "                best_loss = epoch_loss\n",
        "                best_model_wts = copy.deepcopy(model.state_dict())\n",
        "\n",
        "        time_elapsed = time.time() - since\n",
        "        print('{:.0f}m {:.0f}s'.format(time_elapsed // 60, time_elapsed % 60))\n",
        "    print('Best val loss: {:4f}'.format(best_loss))\n",
        "\n",
        "    # load best model weights\n",
        "    model.load_state_dict(best_model_wts)\n",
        "    return model"
      ],
      "execution_count": 26,
      "outputs": []
    },
    {
      "cell_type": "markdown",
      "metadata": {
        "id": "aoah-F1S9xkH"
      },
      "source": [
        "We will now create and train a U-Net while taking note of the time taken for each epoch iteration. The optimizer is used is the Adam optimizer."
      ]
    },
    {
      "cell_type": "code",
      "metadata": {
        "scrolled": true,
        "id": "JXA63wgVdXzN",
        "outputId": "882c9a49-dcae-4933-96c6-5a6743b98ce8",
        "colab": {
          "base_uri": "https://localhost:8080/"
        }
      },
      "source": [
        "import time\n",
        "import copy\n",
        "\n",
        "device = torch.device(\"cuda:0\" if torch.cuda.is_available() else \"cpu\")\n",
        "print(device)\n",
        "\n",
        "num_class = 6\n",
        "\n",
        "model = UNet(num_class).to(device)\n",
        "\n",
        "# Observe that all parameters are being optimized\n",
        "optimizer_ft = optim.Adam(model.parameters(), lr=1e-4)\n",
        "\n",
        "exp_lr_scheduler = lr_scheduler.StepLR(optimizer_ft, step_size=25, gamma=0.1)"
      ],
      "execution_count": 27,
      "outputs": [
        {
          "output_type": "stream",
          "text": [
            "cuda:0\n"
          ],
          "name": "stdout"
        }
      ]
    },
    {
      "cell_type": "code",
      "metadata": {
        "id": "D5aNLYZrhrvd",
        "outputId": "d8a84114-742e-4c71-9b57-206c61caaa36",
        "colab": {
          "base_uri": "https://localhost:8080/"
        }
      },
      "source": [
        "model = train_model(model, optimizer_ft, exp_lr_scheduler, num_epochs=40)"
      ],
      "execution_count": 28,
      "outputs": [
        {
          "output_type": "stream",
          "text": [
            "Epoch 0/39\n",
            "----------\n",
            "LR 0.0001\n",
            "train: bce: 0.191529, dice: 0.986695, loss: 0.589112\n",
            "val: bce: 0.028165, dice: 0.888280, loss: 0.458223\n",
            "saving best model\n",
            "0m 32s\n",
            "Epoch 1/39\n",
            "----------\n",
            "LR 0.0001\n",
            "train: bce: 0.025071, dice: 0.759078, loss: 0.392074\n",
            "val: bce: 0.029232, dice: 0.627540, loss: 0.328386\n",
            "saving best model\n",
            "0m 32s\n",
            "Epoch 2/39\n",
            "----------\n",
            "LR 0.0001\n",
            "train: bce: 0.022679, dice: 0.534846, loss: 0.278763\n",
            "val: bce: 0.015588, dice: 0.443004, loss: 0.229296\n",
            "saving best model\n",
            "0m 32s\n",
            "Epoch 3/39\n",
            "----------\n",
            "LR 0.0001\n",
            "train: bce: 0.015368, dice: 0.411958, loss: 0.213663\n",
            "val: bce: 0.012238, dice: 0.372147, loss: 0.192192\n",
            "saving best model\n",
            "0m 32s\n",
            "Epoch 4/39\n",
            "----------\n",
            "LR 0.0001\n",
            "train: bce: 0.014661, dice: 0.348760, loss: 0.181710\n",
            "val: bce: 0.011523, dice: 0.295779, loss: 0.153651\n",
            "saving best model\n",
            "0m 32s\n",
            "Epoch 5/39\n",
            "----------\n",
            "LR 0.0001\n",
            "val: bce: 0.010064, dice: 0.208159, loss: 0.109112\n",
            "saving best model\n",
            "0m 32s\n",
            "Epoch 6/39\n",
            "----------\n",
            "LR 0.0001\n",
            "train: bce: 0.010448, dice: 0.201434, loss: 0.105941\n",
            "val: bce: 0.009613, dice: 0.187621, loss: 0.098617\n",
            "saving best model\n",
            "0m 32s\n",
            "Epoch 7/39\n",
            "----------\n",
            "LR 0.0001\n",
            "train: bce: 0.010023, dice: 0.198369, loss: 0.104196\n",
            "val: bce: 0.008915, dice: 0.186383, loss: 0.097649\n",
            "saving best model\n",
            "0m 32s\n",
            "Epoch 8/39\n",
            "----------\n",
            "LR 0.0001\n",
            "train: bce: 0.007994, dice: 0.154959, loss: 0.081476\n",
            "val: bce: 0.006662, dice: 0.136963, loss: 0.071813\n",
            "saving best model\n",
            "0m 32s\n",
            "Epoch 9/39\n",
            "----------\n",
            "LR 0.0001\n",
            "train: bce: 0.005769, dice: 0.100328, loss: 0.053048\n",
            "val: bce: 0.005255, dice: 0.087778, loss: 0.046517\n",
            "saving best model\n",
            "0m 32s\n",
            "Epoch 10/39\n",
            "----------\n",
            "LR 0.0001\n",
            "train: bce: 0.005650, dice: 0.089238, loss: 0.047444\n",
            "val: bce: 0.004814, dice: 0.081514, loss: 0.043164\n",
            "saving best model\n",
            "0m 32s\n",
            "Epoch 11/39\n",
            "----------\n",
            "LR 0.0001\n",
            "train: bce: 0.004911, dice: 0.071773, loss: 0.038342\n",
            "val: bce: 0.004843, dice: 0.070002, loss: 0.037423\n",
            "saving best model\n",
            "0m 32s\n",
            "Epoch 12/39\n",
            "----------\n",
            "LR 0.0001\n",
            "train: bce: 0.004689, dice: 0.067820, loss: 0.036254\n",
            "val: bce: 0.004802, dice: 0.070253, loss: 0.037527\n",
            "0m 32s\n",
            "Epoch 13/39\n",
            "----------\n",
            "LR 0.0001\n",
            "train: bce: 0.004794, dice: 0.073763, loss: 0.039279\n",
            "val: bce: 0.004659, dice: 0.064971, loss: 0.034815\n",
            "saving best model\n",
            "0m 32s\n",
            "Epoch 14/39\n",
            "----------\n",
            "LR 0.0001\n",
            "train: bce: 0.004183, dice: 0.058117, loss: 0.031150\n",
            "val: bce: 0.004218, dice: 0.058338, loss: 0.031278\n",
            "saving best model\n",
            "0m 32s\n",
            "Epoch 15/39\n",
            "----------\n",
            "LR 0.0001\n",
            "train: bce: 0.003887, dice: 0.055151, loss: 0.029519\n",
            "val: bce: 0.003673, dice: 0.060912, loss: 0.032293\n",
            "0m 32s\n",
            "Epoch 16/39\n",
            "----------\n",
            "LR 0.0001\n",
            "train: bce: 0.003723, dice: 0.053093, loss: 0.028408\n",
            "val: bce: 0.003485, dice: 0.053215, loss: 0.028350\n",
            "saving best model\n",
            "0m 32s\n",
            "Epoch 17/39\n",
            "----------\n",
            "LR 0.0001\n",
            "train: bce: 0.003485, dice: 0.051228, loss: 0.027357\n",
            "val: bce: 0.003250, dice: 0.048520, loss: 0.025885\n",
            "saving best model\n",
            "0m 32s\n",
            "Epoch 18/39\n",
            "----------\n",
            "LR 0.0001\n",
            "train: bce: 0.003261, dice: 0.048253, loss: 0.025757\n",
            "val: bce: 0.002968, dice: 0.052194, loss: 0.027581\n",
            "0m 32s\n",
            "Epoch 19/39\n",
            "----------\n",
            "LR 0.0001\n",
            "train: bce: 0.003115, dice: 0.048249, loss: 0.025682\n",
            "val: bce: 0.002977, dice: 0.046441, loss: 0.024709\n",
            "saving best model\n",
            "0m 32s\n",
            "Epoch 20/39\n",
            "----------\n",
            "LR 0.0001\n",
            "train: bce: 0.002950, dice: 0.044933, loss: 0.023941\n",
            "val: bce: 0.002948, dice: 0.048501, loss: 0.025724\n",
            "0m 32s\n",
            "Epoch 21/39\n",
            "----------\n",
            "LR 0.0001\n",
            "train: bce: 0.002724, dice: 0.043118, loss: 0.022921\n",
            "val: bce: 0.003822, dice: 0.051077, loss: 0.027450\n",
            "0m 32s\n",
            "Epoch 22/39\n",
            "----------\n",
            "LR 0.0001\n",
            "train: bce: 0.002626, dice: 0.041233, loss: 0.021929\n",
            "val: bce: 0.002627, dice: 0.042632, loss: 0.022630\n",
            "saving best model\n",
            "0m 32s\n",
            "Epoch 23/39\n",
            "----------\n",
            "LR 0.0001\n",
            "train: bce: 0.002421, dice: 0.039075, loss: 0.020748\n",
            "val: bce: 0.002188, dice: 0.039726, loss: 0.020957\n",
            "saving best model\n",
            "0m 32s\n",
            "Epoch 24/39\n",
            "----------\n",
            "LR 0.0001\n",
            "train: bce: 0.002336, dice: 0.038859, loss: 0.020598\n",
            "val: bce: 0.002485, dice: 0.045012, loss: 0.023749\n",
            "0m 32s\n",
            "Epoch 25/39\n",
            "----------\n",
            "LR 1e-05\n",
            "train: bce: 0.002110, dice: 0.035360, loss: 0.018735\n",
            "val: bce: 0.002182, dice: 0.036260, loss: 0.019221\n",
            "saving best model\n",
            "0m 32s\n",
            "Epoch 26/39\n",
            "----------\n",
            "LR 1e-05\n",
            "train: bce: 0.002007, dice: 0.033781, loss: 0.017894\n",
            "val: bce: 0.002162, dice: 0.036123, loss: 0.019142\n",
            "saving best model\n",
            "0m 32s\n",
            "Epoch 27/39\n",
            "----------\n",
            "LR 1e-05\n",
            "train: bce: 0.001966, dice: 0.033303, loss: 0.017635\n",
            "val: bce: 0.002126, dice: 0.035867, loss: 0.018997\n",
            "saving best model\n",
            "0m 32s\n",
            "Epoch 28/39\n",
            "----------\n",
            "LR 1e-05\n",
            "train: bce: 0.001962, dice: 0.033065, loss: 0.017513\n",
            "val: bce: 0.002108, dice: 0.035799, loss: 0.018954\n",
            "saving best model\n",
            "0m 32s\n",
            "Epoch 29/39\n",
            "----------\n",
            "LR 1e-05\n",
            "train: bce: 0.001938, dice: 0.032701, loss: 0.017319\n",
            "val: bce: 0.002123, dice: 0.035472, loss: 0.018798\n",
            "saving best model\n",
            "0m 32s\n",
            "Epoch 30/39\n",
            "----------\n",
            "LR 1e-05\n",
            "train: bce: 0.001912, dice: 0.032478, loss: 0.017195\n",
            "val: bce: 0.002154, dice: 0.035597, loss: 0.018876\n",
            "0m 32s\n",
            "Epoch 31/39\n",
            "----------\n",
            "LR 1e-05\n",
            "train: bce: 0.001899, dice: 0.032212, loss: 0.017055\n",
            "val: bce: 0.002125, dice: 0.035429, loss: 0.018777\n",
            "saving best model\n",
            "0m 32s\n",
            "Epoch 32/39\n",
            "----------\n",
            "LR 1e-05\n",
            "train: bce: 0.001898, dice: 0.031991, loss: 0.016944\n",
            "val: bce: 0.002142, dice: 0.035108, loss: 0.018625\n",
            "saving best model\n",
            "0m 32s\n",
            "Epoch 33/39\n",
            "----------\n",
            "LR 1e-05\n",
            "train: bce: 0.001868, dice: 0.031768, loss: 0.016818\n",
            "val: bce: 0.002148, dice: 0.034928, loss: 0.018538\n",
            "saving best model\n",
            "0m 32s\n",
            "Epoch 34/39\n",
            "----------\n",
            "LR 1e-05\n",
            "train: bce: 0.001869, dice: 0.031593, loss: 0.016731\n",
            "val: bce: 0.002114, dice: 0.034745, loss: 0.018429\n",
            "saving best model\n",
            "0m 32s\n",
            "Epoch 35/39\n",
            "----------\n",
            "LR 1e-05\n",
            "train: bce: 0.001862, dice: 0.031411, loss: 0.016636\n",
            "val: bce: 0.002001, dice: 0.034590, loss: 0.018295\n",
            "saving best model\n",
            "0m 32s\n",
            "Epoch 36/39\n",
            "----------\n",
            "LR 1e-05\n",
            "train: bce: 0.001843, dice: 0.031240, loss: 0.016541\n",
            "val: bce: 0.002227, dice: 0.035939, loss: 0.019083\n",
            "0m 32s\n",
            "Epoch 37/39\n",
            "----------\n",
            "LR 1e-05\n",
            "train: bce: 0.001836, dice: 0.031044, loss: 0.016440\n",
            "val: bce: 0.002070, dice: 0.034270, loss: 0.018170\n",
            "saving best model\n",
            "0m 32s\n",
            "Epoch 38/39\n",
            "----------\n",
            "LR 1e-05\n",
            "train: bce: 0.001804, dice: 0.030711, loss: 0.016258\n",
            "val: bce: 0.002095, dice: 0.034310, loss: 0.018202\n",
            "0m 32s\n",
            "Epoch 39/39\n",
            "----------\n",
            "LR 1e-05\n",
            "train: bce: 0.001805, dice: 0.030509, loss: 0.016157\n",
            "val: bce: 0.002024, dice: 0.033886, loss: 0.017955\n",
            "saving best model\n",
            "0m 32s\n",
            "Best val loss: 0.017955\n"
          ],
          "name": "stdout"
        }
      ]
    },
    {
      "cell_type": "markdown",
      "metadata": {
        "id": "p-RLZbkk-eOh"
      },
      "source": [
        "## Testing\n",
        "\n",
        "The test dataset is created in the same manner as the training and validation sets. We create a `DataLoader` for it and pass it to the model for prediction. Then, we use the helper functions defined earlier to display the original image, the target mask and the prediction side by side."
      ]
    },
    {
      "cell_type": "code",
      "metadata": {
        "id": "eD991DaGdXzS",
        "outputId": "f5d763c7-f63a-44e2-85af-6405f52d9c0e",
        "colab": {
          "base_uri": "https://localhost:8080/",
          "height": 721
        }
      },
      "source": [
        "# prediction\n",
        "\n",
        "import math\n",
        "\n",
        "model.eval()   # Set model to evaluate mode\n",
        "\n",
        "test_dataset = SimDataset(3, transform = trans)\n",
        "test_loader = DataLoader(test_dataset, batch_size=3, shuffle=False, num_workers=0)\n",
        "        \n",
        "inputs, labels = next(iter(test_loader))\n",
        "inputs = inputs.to(device)\n",
        "labels = labels.to(device)\n",
        "\n",
        "pred = model(inputs)\n",
        "\n",
        "pred = pred.data.cpu().numpy()\n",
        "print(pred.shape)\n",
        "\n",
        "# Change channel-order and make 3 channels for matplot\n",
        "input_images_rgb = [reverse_transform(x) for x in inputs.cpu()]\n",
        "\n",
        "# Map each channel (i.e. class) to each color\n",
        "target_masks_rgb = [masks_to_colorimg(x) for x in labels.cpu().numpy()]\n",
        "pred_rgb = [masks_to_colorimg(x) for x in pred]\n",
        "\n",
        "plot_side_by_side([input_images_rgb, target_masks_rgb, pred_rgb])"
      ],
      "execution_count": 29,
      "outputs": [
        {
          "output_type": "stream",
          "text": [
            "(3, 6, 192, 192)\n"
          ],
          "name": "stdout"
        },
        {
          "output_type": "display_data",
          "data": {
            "image/png": "[encoded data removed]",
            "text/plain": [
              "<Figure size 864x864 with 9 Axes>"
            ]
          },
          "metadata": {
            "tags": [],
            "needs_background": "light"
          }
        }
      ]
    },
    {
      "cell_type": "markdown",
      "metadata": {
        "id": "oQTB91Vb_MQP"
      },
      "source": [
        "Thus we are able to realize a U-Net using Pytorch."
      ]
    },
    {
      "cell_type": "markdown",
      "metadata": {
        "id": "Z0BCNOlt_P9F"
      },
      "source": [
        "# References\n",
        "\n",
        "1. [Naoto Usuyama's implementation of U-Net using PyTorch](https://libraries.io/github/usuyama)\n",
        "2. [Blog Post: UNet by Heet Sankesara](https://towardsdatascience.com/u-net-b229b32b4a71)\n",
        "3. [Wikipedia Page on U-Net](https://en.wikipedia.org/wiki/U-Net)"
      ]
    }
  ]
}